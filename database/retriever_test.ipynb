{
 "cells": [
  {
   "cell_type": "code",
   "execution_count": 1,
   "metadata": {},
   "outputs": [],
   "source": [
    "import getpass\n",
    "import os\n",
    "\n",
    "from langchain_chroma import Chroma\n",
    "from langchain_openai import OpenAIEmbeddings"
   ]
  },
  {
   "cell_type": "code",
   "execution_count": 2,
   "metadata": {},
   "outputs": [],
   "source": [
    "os.environ[\"OPENAI_API_KEY\"] = getpass.getpass()"
   ]
  },
  {
   "cell_type": "code",
   "execution_count": 4,
   "metadata": {},
   "outputs": [],
   "source": [
    "vectorstore = Chroma(persist_directory=\"./chroma_db\", embedding_function=OpenAIEmbeddings())\n",
    "\n",
    "retriever = vectorstore.as_retriever(search_type=\"similarity\", search_kwargs={\"k\": 6})"
   ]
  },
  {
   "cell_type": "code",
   "execution_count": 5,
   "metadata": {},
   "outputs": [],
   "source": [
    "retrieved_docs = retriever.invoke(\"Quantas vagas tem o curso de piano na unicamp?\")"
   ]
  },
  {
   "cell_type": "code",
   "execution_count": 10,
   "metadata": {},
   "outputs": [
    {
     "name": "stdout",
     "output_type": "stream",
     "text": [
      "Curso de Bacharelado: \n",
      "\n",
      "- Música Popular: Piano - 2 vagas; \n",
      "- Música Popular: Voz - 2 vagas; \n",
      "- Música Popular: Saxofone - 2 vagas; \n",
      "- Música Popular: Contrabaixo - 2 vagas; \n",
      "- Música Popular: Guitarra - 2 vagas; \n",
      "- Música Popular: Bateria - 2 vagas; \n",
      "- Música Popular: Violão - 1 vaga. \n",
      "\n",
      "Curso de Bacharelado: \n",
      "\n",
      "- Música Erudita: Clarineta - 3 vagas; \n",
      "- Música Erudita: Flauta - 3 vagas; \n",
      "- Música Erudita: Trombone - 3 vagas; \n",
      "- Música Erudita: Viola - 2 vagas; \n",
      "- Música Erudita: Contrabaixo - 2 vagas; \n",
      "- Música Erudita: Violão - 2 vagas; \n",
      "- Música Erudita: Violoncelo - 2 vagas; \n",
      "- Música Erudita: Percussão - 2 vagas; \n",
      "- Música Erudita: Voz - 2 vagas; \n",
      "- Música Erudita: Piano - 3 vagas; \n",
      "- Música Erudita: Trompete - 2 vagas; \n",
      "- Música Erudita: Violino - 2 vagas. \n",
      "\n",
      "Música: Licenciatura – 14 vagas \n",
      "\n",
      "Música Erudita: Composição – 5 vagas \n",
      "\n",
      "Música Erudita: Regência – 3 vagas \n",
      "\n",
      "Total de 63 vagas\n"
     ]
    }
   ],
   "source": [
    "print(retrieved_docs[0].page_content)"
   ]
  }
 ],
 "metadata": {
  "kernelspec": {
   "display_name": "python3-venv",
   "language": "python",
   "name": "python3"
  },
  "language_info": {
   "codemirror_mode": {
    "name": "ipython",
    "version": 3
   },
   "file_extension": ".py",
   "mimetype": "text/x-python",
   "name": "python",
   "nbconvert_exporter": "python",
   "pygments_lexer": "ipython3",
   "version": "3.11.2"
  }
 },
 "nbformat": 4,
 "nbformat_minor": 2
}
