{
 "cells": [
  {
   "cell_type": "code",
   "execution_count": 1,
   "metadata": {},
   "outputs": [],
   "source": [
    "import getpass\n",
    "import os\n",
    "\n",
    "from langchain_chroma import Chroma\n",
    "from langchain_openai import OpenAIEmbeddings"
   ]
  },
  {
   "cell_type": "code",
   "execution_count": 2,
   "metadata": {},
   "outputs": [],
   "source": [
    "os.environ[\"OPENAI_API_KEY\"] = getpass.getpass()"
   ]
  },
  {
   "cell_type": "code",
   "execution_count": 3,
   "metadata": {},
   "outputs": [],
   "source": [
    "vectorstore = Chroma(persist_directory=\"./chroma_db\", embedding_function=OpenAIEmbeddings())\n",
    "\n",
    "retriever = vectorstore.as_retriever(search_type=\"similarity\", search_kwargs={\"k\": 6})"
   ]
  },
  {
   "cell_type": "code",
   "execution_count": 4,
   "metadata": {},
   "outputs": [],
   "source": [
    "retrieved_docs = retriever.invoke(\"Quantas vagas tem o curso de piano na unicamp?\")"
   ]
  },
  {
   "cell_type": "code",
   "execution_count": 5,
   "metadata": {},
   "outputs": [
    {
     "name": "stdout",
     "output_type": "stream",
     "text": [
      "Curso: Música Erudita: Violoncelo (Integral);Total Vagas Regulares: 2;Total Vagas VU: 2;Ampla Concorrência (Mínimo): 2;Ampla Concorrência (Máximo): 2;Reserva de Vagas para PP (Mínimo 15%*): 0;Reserva de Vagas para PP (Máximo 27,2%*): 0\n",
      "\n",
      "Curso: Música Erudita: Voz (Integral);Total Vagas Regulares: 2;Total Vagas VU: 2;Ampla Concorrência (Mínimo): 2;Ampla Concorrência (Máximo): 2;Reserva de Vagas para PP (Mínimo 15%*): 0;Reserva de Vagas para PP (Máximo 27,2%*): 0\n",
      "\n",
      "Curso: Música Popular: Bateria (Integral);Total Vagas Regulares: 2;Total Vagas VU: 2;Ampla Concorrência (Mínimo): 2;Ampla Concorrência (Máximo): 2;Reserva de Vagas para PP (Mínimo 15%*): 0;Reserva de Vagas para PP (Máximo 27,2%*): 0\n",
      "\n",
      "Curso: Música Popular: Contrabaixo (Integral);Total Vagas Regulares: 2;Total Vagas VU: 2;Ampla Concorrência (Mínimo): 2;Ampla Concorrência (Máximo): 2;Reserva de Vagas para PP (Mínimo 15%*): 0;Reserva de Vagas para PP (Máximo 27,2%*): 0\n"
     ]
    }
   ],
   "source": [
    "print(retrieved_docs[1].page_content)"
   ]
  }
 ],
 "metadata": {
  "kernelspec": {
   "display_name": "python3-venv",
   "language": "python",
   "name": "python3"
  },
  "language_info": {
   "codemirror_mode": {
    "name": "ipython",
    "version": 3
   },
   "file_extension": ".py",
   "mimetype": "text/x-python",
   "name": "python",
   "nbconvert_exporter": "python",
   "pygments_lexer": "ipython3",
   "version": "3.11.2"
  }
 },
 "nbformat": 4,
 "nbformat_minor": 2
}
